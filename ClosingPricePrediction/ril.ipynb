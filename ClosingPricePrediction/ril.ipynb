{
 "cells": [
  {
   "cell_type": "markdown",
   "metadata": {},
   "source": [
    "# Analysing and Predicting Closing Stock Price\n",
    "\n",
    "Using different regression models to predict the closing stock price of Reliance using the given data and then concluding which model gives the best result.\n"
   ]
  },
  {
   "cell_type": "markdown",
   "metadata": {},
   "source": [
    "## Importing the Libraries"
   ]
  },
  {
   "cell_type": "code",
   "execution_count": 1,
   "metadata": {},
   "outputs": [],
   "source": [
    "import numpy as np\n",
    "import pandas as pd\n",
    "import matplotlib.pyplot as plt"
   ]
  },
  {
   "cell_type": "markdown",
   "metadata": {},
   "source": [
    "## Importing the Dataset"
   ]
  },
  {
   "cell_type": "code",
   "execution_count": 13,
   "metadata": {},
   "outputs": [],
   "source": [
    "df = pd.read_csv('RELIANCE.NS.csv')\n",
    "df.drop(['Volume','Adj Close'],axis=1,inplace=True)"
   ]
  },
  {
   "cell_type": "code",
   "execution_count": 14,
   "metadata": {},
   "outputs": [
    {
     "data": {
      "text/html": [
       "<div>\n",
       "<style scoped>\n",
       "    .dataframe tbody tr th:only-of-type {\n",
       "        vertical-align: middle;\n",
       "    }\n",
       "\n",
       "    .dataframe tbody tr th {\n",
       "        vertical-align: top;\n",
       "    }\n",
       "\n",
       "    .dataframe thead th {\n",
       "        text-align: right;\n",
       "    }\n",
       "</style>\n",
       "<table border=\"1\" class=\"dataframe\">\n",
       "  <thead>\n",
       "    <tr style=\"text-align: right;\">\n",
       "      <th></th>\n",
       "      <th>Date</th>\n",
       "      <th>Open</th>\n",
       "      <th>High</th>\n",
       "      <th>Low</th>\n",
       "      <th>Close</th>\n",
       "    </tr>\n",
       "  </thead>\n",
       "  <tbody>\n",
       "    <tr>\n",
       "      <th>0</th>\n",
       "      <td>2018-10-08</td>\n",
       "      <td>1094.574585</td>\n",
       "      <td>1118.398682</td>\n",
       "      <td>1091.553223</td>\n",
       "      <td>1115.971680</td>\n",
       "    </tr>\n",
       "    <tr>\n",
       "      <th>1</th>\n",
       "      <td>2018-10-15</td>\n",
       "      <td>1119.290283</td>\n",
       "      <td>1168.275879</td>\n",
       "      <td>1060.200317</td>\n",
       "      <td>1090.958740</td>\n",
       "    </tr>\n",
       "    <tr>\n",
       "      <th>2</th>\n",
       "      <td>2018-10-22</td>\n",
       "      <td>1099.577148</td>\n",
       "      <td>1104.332031</td>\n",
       "      <td>1006.856018</td>\n",
       "      <td>1035.088379</td>\n",
       "    </tr>\n",
       "    <tr>\n",
       "      <th>3</th>\n",
       "      <td>2018-10-29</td>\n",
       "      <td>1036.178101</td>\n",
       "      <td>1083.578735</td>\n",
       "      <td>1036.178101</td>\n",
       "      <td>1064.806641</td>\n",
       "    </tr>\n",
       "    <tr>\n",
       "      <th>4</th>\n",
       "      <td>2018-11-05</td>\n",
       "      <td>1063.370361</td>\n",
       "      <td>1104.530151</td>\n",
       "      <td>1054.999634</td>\n",
       "      <td>1083.182495</td>\n",
       "    </tr>\n",
       "    <tr>\n",
       "      <th>...</th>\n",
       "      <td>...</td>\n",
       "      <td>...</td>\n",
       "      <td>...</td>\n",
       "      <td>...</td>\n",
       "      <td>...</td>\n",
       "    </tr>\n",
       "    <tr>\n",
       "      <th>257</th>\n",
       "      <td>2023-09-11</td>\n",
       "      <td>2452.000000</td>\n",
       "      <td>2483.000000</td>\n",
       "      <td>2426.250000</td>\n",
       "      <td>2457.850098</td>\n",
       "    </tr>\n",
       "    <tr>\n",
       "      <th>258</th>\n",
       "      <td>2023-09-18</td>\n",
       "      <td>2440.050049</td>\n",
       "      <td>2451.000000</td>\n",
       "      <td>2350.000000</td>\n",
       "      <td>2354.949951</td>\n",
       "    </tr>\n",
       "    <tr>\n",
       "      <th>259</th>\n",
       "      <td>2023-09-25</td>\n",
       "      <td>2350.399902</td>\n",
       "      <td>2383.000000</td>\n",
       "      <td>2325.000000</td>\n",
       "      <td>2345.000000</td>\n",
       "    </tr>\n",
       "    <tr>\n",
       "      <th>260</th>\n",
       "      <td>2023-10-02</td>\n",
       "      <td>2345.000000</td>\n",
       "      <td>2345.000000</td>\n",
       "      <td>2295.100098</td>\n",
       "      <td>2318.000000</td>\n",
       "    </tr>\n",
       "    <tr>\n",
       "      <th>261</th>\n",
       "      <td>2023-10-09</td>\n",
       "      <td>2308.100098</td>\n",
       "      <td>2349.699951</td>\n",
       "      <td>2295.000000</td>\n",
       "      <td>2345.050049</td>\n",
       "    </tr>\n",
       "  </tbody>\n",
       "</table>\n",
       "<p>262 rows × 5 columns</p>\n",
       "</div>"
      ],
      "text/plain": [
       "           Date         Open         High          Low        Close\n",
       "0    2018-10-08  1094.574585  1118.398682  1091.553223  1115.971680\n",
       "1    2018-10-15  1119.290283  1168.275879  1060.200317  1090.958740\n",
       "2    2018-10-22  1099.577148  1104.332031  1006.856018  1035.088379\n",
       "3    2018-10-29  1036.178101  1083.578735  1036.178101  1064.806641\n",
       "4    2018-11-05  1063.370361  1104.530151  1054.999634  1083.182495\n",
       "..          ...          ...          ...          ...          ...\n",
       "257  2023-09-11  2452.000000  2483.000000  2426.250000  2457.850098\n",
       "258  2023-09-18  2440.050049  2451.000000  2350.000000  2354.949951\n",
       "259  2023-09-25  2350.399902  2383.000000  2325.000000  2345.000000\n",
       "260  2023-10-02  2345.000000  2345.000000  2295.100098  2318.000000\n",
       "261  2023-10-09  2308.100098  2349.699951  2295.000000  2345.050049\n",
       "\n",
       "[262 rows x 5 columns]"
      ]
     },
     "execution_count": 14,
     "metadata": {},
     "output_type": "execute_result"
    }
   ],
   "source": [
    "df"
   ]
  },
  {
   "cell_type": "code",
   "execution_count": 16,
   "metadata": {},
   "outputs": [
    {
     "data": {
      "text/plain": [
       "array([[1094.574585, 1118.398682, 1091.553223],\n",
       "       [1119.290283, 1168.275879, 1060.200317],\n",
       "       [1099.577148, 1104.332031, 1006.856018],\n",
       "       [1036.178101, 1083.578735, 1036.178101],\n",
       "       [1063.370361, 1104.530151, 1054.999634],\n",
       "       [1087.392578, 1119.339722, 1060.002197],\n",
       "       [1122.262085, 1145.046143, 1089.77002 ],\n",
       "       [1098.586548, 1174.863525, 1087.095459],\n",
       "       [1163.867676, 1163.867676, 1097.942627],\n",
       "       [1099.577148, 1117.408081, 1045.093506],\n",
       "       [1105.471191, 1136.526855, 1085.708618],\n",
       "       [1090.5625  , 1124.589966, 1055.643555],\n",
       "       [1120.330444, 1123.203125, 1070.948486],\n",
       "       [1096.605225, 1107.947754, 1078.378052],\n",
       "       [1084.718018, 1178.726807, 1076.19873 ],\n",
       "       [1182.78833 , 1252.824463, 1177.488525],\n",
       "       [1238.757813, 1244.156616, 1179.915527],\n",
       "       [1235.290649, 1308.793945, 1230.387207],\n",
       "       [1263.919312, 1264.018311, 1202.600586],\n",
       "       [1238.262451, 1245.989258, 1199.826782],\n",
       "       [1224.393921, 1233.210449, 1194.675659],\n",
       "       [1214.537354, 1267.782715, 1207.157349],\n",
       "       [1258.124268, 1349.210815, 1256.093506],\n",
       "       [1318.501953, 1374.966675, 1316.520752],\n",
       "       [1318.105713, 1365.011108, 1304.336182],\n",
       "       [1357.135742, 1393.59021 , 1330.389282],\n",
       "       [1343.267212, 1344.753052, 1308.595825],\n",
       "       [1332.370483, 1376.700317, 1322.464355],\n",
       "       [1347.229614, 1399.137573, 1328.7052  ],\n",
       "       [1379.721558, 1404.189697, 1353.965698],\n",
       "       [1384.872803, 1389.627686, 1233.309448],\n",
       "       [1236.182251, 1265.999634, 1215.973755],\n",
       "       [1301.265259, 1378.929077, 1291.260132],\n",
       "       [1324.544678, 1329.398682, 1291.904053],\n",
       "       [1322.464355, 1361.345825, 1293.340454],\n",
       "       [1308.496704, 1325.832397, 1296.361816],\n",
       "       [1307.605225, 1307.605225, 1250.744141],\n",
       "       [1260.204468, 1292.349854, 1236.925171],\n",
       "       [1246.236938, 1278.877563, 1234.74585 ],\n",
       "       [1246.187378, 1287.792969, 1233.80481 ],\n",
       "       [1272.933838, 1284.821167, 1231.031006],\n",
       "       [1239.253174, 1281.750244, 1198.638062],\n",
       "       [1205.473267, 1210.525391, 1139.548218],\n",
       "       [1156.04187 , 1164.462036, 1085.015137],\n",
       "       [1151.187866, 1292.201172, 1151.187866],\n",
       "       [1269.020996, 1284.623047, 1214.983154],\n",
       "       [1281.849365, 1281.849365, 1209.53479 ],\n",
       "       [1236.826172, 1236.826172, 1174.912964],\n",
       "       [1209.18811 , 1228.802124, 1194.37854 ],\n",
       "       [1177.835327, 1257.975708, 1161.638794],\n",
       "       [1262.185791, 1302.6521  , 1223.40332 ],\n",
       "       [1297.699097, 1329.398682, 1269.268555],\n",
       "       [1295.816895, 1356.145142, 1280.363403],\n",
       "       [1352.133179, 1414.492065, 1338.165527],\n",
       "       [1403.050537, 1431.431519, 1370.162231],\n",
       "       [1417.760986, 1475.662231, 1417.760986],\n",
       "       [1452.135254, 1457.187378, 1415.086426],\n",
       "       [1425.586914, 1472.838989, 1409.192261],\n",
       "       [1458.821777, 1557.635132, 1441.733765],\n",
       "       [1536.584717, 1569.274902, 1533.315674],\n",
       "       [1584.975952, 1599.290283, 1519.348145],\n",
       "       [1541.53772 , 1575.069946, 1531.978394],\n",
       "       [1577.051147, 1602.361206, 1540.943359],\n",
       "       [1545.450684, 1562.736816, 1495.969727],\n",
       "       [1531.433594, 1533.117554, 1491.363403],\n",
       "       [1505.727173, 1543.320801, 1483.933838],\n",
       "       [1530.541992, 1570.067383, 1503.993652],\n",
       "       [1593.891479, 1593.891479, 1504.290771],\n",
       "       [1500.675049, 1510.135376, 1358.225342],\n",
       "       [1357.036621, 1453.224854, 1350.250977],\n",
       "       [1414.591064, 1487.35144 , 1397.205933],\n",
       "       [1475.018311, 1493.839844, 1443.714966],\n",
       "       [1455.949097, 1463.130981, 1312.558228],\n",
       "       [1342.37561 , 1356.145142, 1229.446045],\n",
       "       [1228.405884, 1229.347046,  933.550842],\n",
       "       [1050.591431, 1069.561646,  883.822266],\n",
       "       [ 907.596863, 1140.736938,  867.427673],\n",
       "       [1030.828735, 1123.797485, 1010.42218 ],\n",
       "       [1067.332764, 1221.223999, 1067.332764],\n",
       "       [1192.644897, 1224.393921, 1132.267212],\n",
       "       [1214.487915, 1480.912476, 1153.070068],\n",
       "       [1420.53479 , 1480.912476, 1379.077759],\n",
       "       [1426.478394, 1565.064697, 1404.140137],\n",
       "       [1565.163818, 1599.835205, 1415.099976],\n",
       "       [1470.      , 1482.      , 1393.      ],\n",
       "       [1431.550049, 1479.75    , 1412.      ],\n",
       "       [1480.      , 1618.      , 1475.949951],\n",
       "       [1618.400024, 1618.400024, 1497.      ],\n",
       "       [1565.      , 1788.800049, 1561.099976],\n",
       "       [1773.400024, 1804.199951, 1711.699951],\n",
       "       [1728.050049, 1793.      , 1695.550049],\n",
       "       [1805.      , 1884.599976, 1786.25    ],\n",
       "       [1903.349976, 1978.800049, 1798.      ],\n",
       "       [1917.800049, 2163.      , 1899.650024],\n",
       "       [2178.800049, 2198.800049, 2052.800049],\n",
       "       [2051.300049, 2196.      , 2000.25    ],\n",
       "       [2159.100098, 2165.      , 2089.25    ],\n",
       "       [2105.      , 2154.      , 2070.100098],\n",
       "       [2091.399902, 2150.      , 2047.      ],\n",
       "       [2174.      , 2174.      , 2060.350098],\n",
       "       [2084.      , 2344.949951, 2044.25    ],\n",
       "       [2325.      , 2369.350098, 2276.550049],\n",
       "       [2300.      , 2336.      , 2167.300049],\n",
       "       [2227.      , 2267.      , 2207.050049],\n",
       "       [2244.      , 2309.      , 2201.649902],\n",
       "       [2235.      , 2304.      , 2172.649902],\n",
       "       [2190.050049, 2228.699951, 2091.      ],\n",
       "       [2101.949951, 2101.949951, 1991.      ],\n",
       "       [2027.      , 2040.      , 1835.099976],\n",
       "       [2062.100098, 2095.      , 1965.      ],\n",
       "       [1996.400024, 2085.      , 1895.      ],\n",
       "       [1951.      , 1992.949951, 1921.400024],\n",
       "       [1929.800049, 1981.099976, 1929.800049],\n",
       "       [1940.599976, 2038.      , 1940.599976],\n",
       "       [2007.949951, 2015.      , 1961.099976],\n",
       "       [2010.      , 2022.      , 1855.25    ],\n",
       "       [2006.699951, 2018.      , 1975.550049],\n",
       "       [1995.099976, 1998.900024, 1905.150024],\n",
       "       [1938.800049, 1974.949951, 1892.5     ],\n",
       "       [1949.099976, 2120.      , 1923.349976],\n",
       "       [2034.949951, 2034.949951, 1830.      ],\n",
       "       [1859.400024, 1952.      , 1848.      ],\n",
       "       [1933.050049, 2078.      , 1927.300049],\n",
       "       [2048.050049, 2108.399902, 2025.      ],\n",
       "       [2080.      , 2152.      , 1994.949951],\n",
       "       [2110.199951, 2219.899902, 2062.5     ],\n",
       "       [2168.5     , 2231.899902, 2123.899902],\n",
       "       [2140.050049, 2148.899902, 1982.800049],\n",
       "       [2071.      , 2109.699951, 1973.699951],\n",
       "       [1994.650024, 2049.899902, 1991.550049],\n",
       "       [2024.949951, 2046.900024, 1962.099976],\n",
       "       [1959.      , 1961.400024, 1900.25    ],\n",
       "       [1904.      , 1919.      , 1876.699951],\n",
       "       [1920.      , 2044.5     , 1911.5     ],\n",
       "       [1966.      , 1979.      , 1906.599976],\n",
       "       [1939.      , 1946.800049, 1906.      ],\n",
       "       [1937.300049, 2016.449951, 1930.400024],\n",
       "       [2008.      , 2105.      , 1960.      ],\n",
       "       [2102.      , 2250.      , 2085.050049],\n",
       "       [2202.      , 2242.      , 2157.949951],\n",
       "       [2215.      , 2274.899902, 2179.899902],\n",
       "       [2203.5     , 2261.      , 2081.100098],\n",
       "       [2122.      , 2132.899902, 2081.      ],\n",
       "       [2136.449951, 2153.550049, 2066.100098],\n",
       "       [2079.75    , 2114.75    , 2074.5     ],\n",
       "       [2100.      , 2134.449951, 2084.      ],\n",
       "       [2108.      , 2121.      , 2016.25    ],\n",
       "       [2054.300049, 2154.800049, 2041.150024],\n",
       "       [2081.      , 2149.899902, 2066.5     ],\n",
       "       [2149.350098, 2203.      , 2128.149902],\n",
       "       [2174.      , 2244.899902, 2132.300049],\n",
       "       [2250.      , 2395.      , 2236.800049],\n",
       "       [2413.      , 2480.      , 2406.649902],\n",
       "       [2433.      , 2455.850098, 2366.      ],\n",
       "       [2372.100098, 2505.449951, 2370.      ],\n",
       "       [2487.      , 2570.      , 2475.300049],\n",
       "       [2553.      , 2684.399902, 2537.050049],\n",
       "       [2701.399902, 2720.      , 2641.25    ],\n",
       "       [2668.600098, 2751.350098, 2603.199951],\n",
       "       [2680.      , 2680.      , 2501.699951],\n",
       "       [2536.25    , 2556.      , 2461.      ],\n",
       "       [2519.399902, 2598.75    , 2456.399902],\n",
       "       [2600.      , 2602.199951, 2450.050049],\n",
       "       [2436.100098, 2502.      , 2309.      ],\n",
       "       [2439.100098, 2500.      , 2388.850098],\n",
       "       [2416.      , 2474.899902, 2357.149902],\n",
       "       [2473.5     , 2474.100098, 2320.      ],\n",
       "       [2317.850098, 2392.      , 2247.100098],\n",
       "       [2361.550049, 2419.      , 2345.600098],\n",
       "       [2365.      , 2477.      , 2363.550049],\n",
       "       [2452.      , 2567.300049, 2416.050049],\n",
       "       [2538.      , 2565.      , 2452.      ],\n",
       "       [2475.      , 2504.75    , 2305.      ],\n",
       "       [2360.199951, 2420.600098, 2321.100098],\n",
       "       [2342.      , 2395.699951, 2305.      ],\n",
       "       [2340.25    , 2456.399902, 2313.      ],\n",
       "       [2412.      , 2437.5     , 2243.399902],\n",
       "       [2243.      , 2414.850098, 2243.      ],\n",
       "       [2278.699951, 2411.      , 2180.      ],\n",
       "       [2386.899902, 2497.399902, 2340.850098],\n",
       "       [2444.      , 2616.      , 2439.      ],\n",
       "       [2610.      , 2688.      , 2586.5     ],\n",
       "       [2655.449951, 2675.      , 2560.      ],\n",
       "       [2600.      , 2638.550049, 2545.5     ],\n",
       "       [2533.      , 2802.      , 2521.800049],\n",
       "       [2742.399902, 2856.149902, 2663.649902],\n",
       "       [2762.      , 2805.5     , 2593.550049],\n",
       "       [2574.949951, 2597.100098, 2370.      ],\n",
       "       [2434.449951, 2644.399902, 2416.649902],\n",
       "       [2631.5     , 2656.699951, 2540.100098],\n",
       "       [2615.      , 2817.350098, 2594.199951],\n",
       "       [2780.      , 2814.      , 2701.5     ],\n",
       "       [2650.      , 2672.800049, 2554.      ],\n",
       "       [2605.      , 2617.100098, 2445.      ],\n",
       "       [2544.949951, 2615.899902, 2365.      ],\n",
       "       [2378.949951, 2464.899902, 2366.100098],\n",
       "       [2376.5     , 2439.699951, 2370.      ],\n",
       "       [2421.      , 2542.5     , 2392.300049],\n",
       "       [2467.449951, 2517.100098, 2402.      ],\n",
       "       [2519.149902, 2617.75    , 2507.600098],\n",
       "       [2531.      , 2641.350098, 2531.      ],\n",
       "       [2633.      , 2676.899902, 2604.949951],\n",
       "       [2617.      , 2670.      , 2586.      ],\n",
       "       [2585.      , 2655.      , 2525.699951],\n",
       "       [2531.      , 2610.      , 2531.      ],\n",
       "       [2570.550049, 2629.699951, 2491.      ],\n",
       "       [2499.199951, 2537.699951, 2436.100098],\n",
       "       [2394.050049, 2426.      , 2311.      ],\n",
       "       [2391.5     , 2450.      , 2363.      ],\n",
       "       [2405.      , 2417.600098, 2343.100098],\n",
       "       [2355.      , 2527.850098, 2343.600098],\n",
       "       [2460.      , 2535.      , 2432.800049],\n",
       "       [2541.      , 2600.      , 2508.      ],\n",
       "       [2591.      , 2636.      , 2563.      ],\n",
       "       [2630.75    , 2642.      , 2571.100098],\n",
       "       [2588.      , 2624.899902, 2536.5     ],\n",
       "       [2608.899902, 2755.      , 2502.      ],\n",
       "       [2712.      , 2716.75    , 2601.850098],\n",
       "       [2585.5     , 2638.949951, 2558.149902],\n",
       "       [2581.      , 2633.      , 2492.25    ],\n",
       "       [2514.75    , 2577.      , 2492.399902],\n",
       "       [2550.      , 2579.      , 2504.      ],\n",
       "       [2545.300049, 2606.      , 2434.600098],\n",
       "       [2472.699951, 2491.100098, 2427.      ],\n",
       "       [2449.      , 2466.199951, 2311.649902],\n",
       "       [2331.699951, 2387.649902, 2293.      ],\n",
       "       [2315.      , 2370.850098, 2293.      ],\n",
       "       [2340.199951, 2463.800049, 2313.550049],\n",
       "       [2445.      , 2449.75    , 2361.350098],\n",
       "       [2382.      , 2393.449951, 2313.649902],\n",
       "       [2400.      , 2424.600098, 2315.050049],\n",
       "       [2329.      , 2344.      , 2202.199951],\n",
       "       [2215.      , 2291.449951, 2180.      ],\n",
       "       [2217.5     , 2343.449951, 2200.199951],\n",
       "       [2345.      , 2354.      , 2308.550049],\n",
       "       [2350.      , 2367.800049, 2321.550049],\n",
       "       [2424.949951, 2424.949951, 2326.      ],\n",
       "       [2375.      , 2423.899902, 2348.      ],\n",
       "       [2420.5     , 2461.350098, 2413.050049],\n",
       "       [2450.      , 2509.5     , 2444.149902],\n",
       "       [2489.899902, 2504.550049, 2418.850098],\n",
       "       [2435.      , 2509.      , 2416.050049],\n",
       "       [2521.      , 2537.699951, 2451.      ],\n",
       "       [2467.199951, 2516.850098, 2458.449951],\n",
       "       [2475.5     , 2582.399902, 2465.      ],\n",
       "       [2584.      , 2584.      , 2512.      ],\n",
       "       [2507.      , 2556.649902, 2486.649902],\n",
       "       [2558.050049, 2664.949951, 2555.350098],\n",
       "       [2688.899902, 2802.      , 2675.      ],\n",
       "       [2747.      , 2856.      , 2523.600098],\n",
       "       [2481.      , 2547.      , 2469.300049],\n",
       "       [2527.850098, 2559.      , 2458.050049],\n",
       "       [2521.      , 2558.850098, 2481.100098],\n",
       "       [2539.      , 2582.800049, 2508.550049],\n",
       "       [2539.949951, 2555.449951, 2442.600098],\n",
       "       [2472.      , 2484.      , 2399.899902],\n",
       "       [2412.649902, 2456.      , 2405.300049],\n",
       "       [2452.      , 2483.      , 2426.25    ],\n",
       "       [2440.050049, 2451.      , 2350.      ],\n",
       "       [2350.399902, 2383.      , 2325.      ],\n",
       "       [2345.      , 2345.      , 2295.100098],\n",
       "       [2308.100098, 2349.699951, 2295.      ]])"
      ]
     },
     "execution_count": 16,
     "metadata": {},
     "output_type": "execute_result"
    }
   ],
   "source": [
    "X = df.iloc[:,1:-1].values\n",
    "X"
   ]
  },
  {
   "cell_type": "code",
   "execution_count": 18,
   "metadata": {},
   "outputs": [
    {
     "data": {
      "text/plain": [
       "array([1115.97168 , 1090.95874 , 1035.088379, 1064.806641, 1083.182495,\n",
       "       1116.813721, 1092.494263, 1156.58667 , 1123.153687, 1101.75647 ,\n",
       "       1089.869141, 1114.981079, 1088.33374 , 1087.739258, 1173.229004,\n",
       "       1234.300049, 1238.213013, 1265.702393, 1232.764648, 1220.778198,\n",
       "       1214.537354, 1255.201904, 1309.239746, 1329.151001, 1350.449097,\n",
       "       1341.18689 , 1330.488281, 1372.935913, 1379.721558, 1395.62085 ,\n",
       "       1239.401733, 1255.499146, 1324.296997, 1317.659912, 1302.553101,\n",
       "       1305.178223, 1267.485474, 1241.333374, 1251.487183, 1268.476074,\n",
       "       1237.271851, 1202.402466, 1173.229004, 1151.187866, 1265.999634,\n",
       "       1263.869751, 1236.826172, 1211.020752, 1214.091675, 1242.571655,\n",
       "       1296.758057, 1295.816895, 1339.899048, 1403.050537, 1420.782349,\n",
       "       1443.219727, 1431.926758, 1457.038696, 1531.978394, 1536.584717,\n",
       "       1540.299561, 1568.036621, 1584.084473, 1527.86731 , 1522.716187,\n",
       "       1533.117554, 1566.154419, 1507.262695, 1370.360352, 1420.187988,\n",
       "       1473.63147 , 1471.996948, 1316.17395 , 1259.065308, 1094.921265,\n",
       "       1008.391479, 1055.593994, 1067.332764, 1208.494629, 1212.506592,\n",
       "       1403.694336, 1452.234253, 1547.134766, 1459.400024, 1431.550049,\n",
       "       1464.400024, 1581.699951, 1588.800049, 1759.400024, 1741.650024,\n",
       "       1787.900024, 1878.050049, 1911.699951, 2146.149902, 2067.100098,\n",
       "       2146.449951, 2113.800049, 2081.850098, 2116.149902, 2077.25    ,\n",
       "       2319.75    , 2305.699951, 2201.699951, 2225.25    , 2233.449951,\n",
       "       2175.800049, 2113.050049, 2054.5     , 2029.150024, 2002.300049,\n",
       "       1899.5     , 1929.800049, 1946.75    , 2005.800049, 1991.550049,\n",
       "       1994.150024, 1987.5     , 1933.699951, 1937.449951, 2049.600098,\n",
       "       1841.949951, 1923.75    , 2041.599976, 2080.300049, 2085.800049,\n",
       "       2178.699951, 2137.600098, 2082.      , 1994.650024, 2021.849976,\n",
       "       1982.050049, 1932.099976, 1904.349976, 1994.5     , 1931.75    ,\n",
       "       1937.300049, 2002.550049, 2094.800049, 2190.5     , 2213.149902,\n",
       "       2225.649902, 2104.449951, 2129.050049, 2071.199951, 2112.399902,\n",
       "       2105.699951, 2035.300049, 2089.050049, 2145.649902, 2148.25    ,\n",
       "       2227.399902, 2388.5     , 2425.600098, 2390.550049, 2482.699951,\n",
       "       2523.699951, 2671.25    , 2700.399902, 2627.399902, 2536.25    ,\n",
       "       2498.850098, 2593.100098, 2473.300049, 2412.600098, 2408.25    ,\n",
       "       2458.949951, 2340.449951, 2372.800049, 2368.149902, 2436.      ,\n",
       "       2539.      , 2477.850098, 2335.850098, 2331.300049, 2376.399902,\n",
       "       2424.399902, 2283.949951, 2325.550049, 2399.149902, 2481.699951,\n",
       "       2595.850098, 2655.850098, 2615.649902, 2551.649902, 2758.800049,\n",
       "       2790.25    , 2620.649902, 2426.600098, 2624.449951, 2575.100098,\n",
       "       2779.5     , 2714.25    , 2590.      , 2500.050049, 2408.699951,\n",
       "       2391.399902, 2401.800049, 2503.100098, 2509.449951, 2534.      ,\n",
       "       2633.      , 2613.850098, 2618.      , 2530.5     , 2569.300049,\n",
       "       2499.199951, 2439.5     , 2377.75    , 2432.350098, 2370.699951,\n",
       "       2471.600098, 2526.149902, 2592.75    , 2631.800049, 2597.649902,\n",
       "       2617.600098, 2722.149902, 2609.100098, 2565.600098, 2502.199951,\n",
       "       2547.199951, 2536.899902, 2467.600098, 2442.649902, 2337.350098,\n",
       "       2329.      , 2336.649902, 2440.199951, 2383.699951, 2385.399902,\n",
       "       2322.699951, 2223.100098, 2203.300049, 2331.050049, 2341.449951,\n",
       "       2355.5     , 2349.      , 2420.5     , 2441.75    , 2484.350098,\n",
       "       2441.949951, 2506.5     , 2455.199951, 2481.949951, 2577.399902,\n",
       "       2514.75    , 2550.25    , 2633.600098, 2740.699951, 2538.75    ,\n",
       "       2527.850098, 2509.550049, 2547.149902, 2556.800049, 2468.350098,\n",
       "       2412.649902, 2448.199951, 2457.850098, 2354.949951, 2345.      ,\n",
       "       2318.      , 2345.050049])"
      ]
     },
     "execution_count": 18,
     "metadata": {},
     "output_type": "execute_result"
    }
   ],
   "source": [
    "y = df.iloc[:,-1].values\n",
    "y"
   ]
  },
  {
   "cell_type": "markdown",
   "metadata": {},
   "source": [
    "X is the features dataset, containing the variables that act as features while y is the column we have to predict i.e the closing price. "
   ]
  },
  {
   "cell_type": "markdown",
   "metadata": {},
   "source": [
    "## Splitting the Data into Training and Test set"
   ]
  },
  {
   "cell_type": "code",
   "execution_count": 19,
   "metadata": {},
   "outputs": [],
   "source": [
    "from sklearn.model_selection import train_test_split\n",
    "X_train,X_test,y_train,y_test = train_test_split(X,y,test_size=0.2,random_state=0)"
   ]
  },
  {
   "cell_type": "markdown",
   "metadata": {},
   "source": [
    "## Training the Data using Multiple Linear Regression Model"
   ]
  },
  {
   "cell_type": "code",
   "execution_count": 22,
   "metadata": {},
   "outputs": [
    {
     "data": {
      "text/html": [
       "<style>#sk-container-id-2 {color: black;}#sk-container-id-2 pre{padding: 0;}#sk-container-id-2 div.sk-toggleable {background-color: white;}#sk-container-id-2 label.sk-toggleable__label {cursor: pointer;display: block;width: 100%;margin-bottom: 0;padding: 0.3em;box-sizing: border-box;text-align: center;}#sk-container-id-2 label.sk-toggleable__label-arrow:before {content: \"▸\";float: left;margin-right: 0.25em;color: #696969;}#sk-container-id-2 label.sk-toggleable__label-arrow:hover:before {color: black;}#sk-container-id-2 div.sk-estimator:hover label.sk-toggleable__label-arrow:before {color: black;}#sk-container-id-2 div.sk-toggleable__content {max-height: 0;max-width: 0;overflow: hidden;text-align: left;background-color: #f0f8ff;}#sk-container-id-2 div.sk-toggleable__content pre {margin: 0.2em;color: black;border-radius: 0.25em;background-color: #f0f8ff;}#sk-container-id-2 input.sk-toggleable__control:checked~div.sk-toggleable__content {max-height: 200px;max-width: 100%;overflow: auto;}#sk-container-id-2 input.sk-toggleable__control:checked~label.sk-toggleable__label-arrow:before {content: \"▾\";}#sk-container-id-2 div.sk-estimator input.sk-toggleable__control:checked~label.sk-toggleable__label {background-color: #d4ebff;}#sk-container-id-2 div.sk-label input.sk-toggleable__control:checked~label.sk-toggleable__label {background-color: #d4ebff;}#sk-container-id-2 input.sk-hidden--visually {border: 0;clip: rect(1px 1px 1px 1px);clip: rect(1px, 1px, 1px, 1px);height: 1px;margin: -1px;overflow: hidden;padding: 0;position: absolute;width: 1px;}#sk-container-id-2 div.sk-estimator {font-family: monospace;background-color: #f0f8ff;border: 1px dotted black;border-radius: 0.25em;box-sizing: border-box;margin-bottom: 0.5em;}#sk-container-id-2 div.sk-estimator:hover {background-color: #d4ebff;}#sk-container-id-2 div.sk-parallel-item::after {content: \"\";width: 100%;border-bottom: 1px solid gray;flex-grow: 1;}#sk-container-id-2 div.sk-label:hover label.sk-toggleable__label {background-color: #d4ebff;}#sk-container-id-2 div.sk-serial::before {content: \"\";position: absolute;border-left: 1px solid gray;box-sizing: border-box;top: 0;bottom: 0;left: 50%;z-index: 0;}#sk-container-id-2 div.sk-serial {display: flex;flex-direction: column;align-items: center;background-color: white;padding-right: 0.2em;padding-left: 0.2em;position: relative;}#sk-container-id-2 div.sk-item {position: relative;z-index: 1;}#sk-container-id-2 div.sk-parallel {display: flex;align-items: stretch;justify-content: center;background-color: white;position: relative;}#sk-container-id-2 div.sk-item::before, #sk-container-id-2 div.sk-parallel-item::before {content: \"\";position: absolute;border-left: 1px solid gray;box-sizing: border-box;top: 0;bottom: 0;left: 50%;z-index: -1;}#sk-container-id-2 div.sk-parallel-item {display: flex;flex-direction: column;z-index: 1;position: relative;background-color: white;}#sk-container-id-2 div.sk-parallel-item:first-child::after {align-self: flex-end;width: 50%;}#sk-container-id-2 div.sk-parallel-item:last-child::after {align-self: flex-start;width: 50%;}#sk-container-id-2 div.sk-parallel-item:only-child::after {width: 0;}#sk-container-id-2 div.sk-dashed-wrapped {border: 1px dashed gray;margin: 0 0.4em 0.5em 0.4em;box-sizing: border-box;padding-bottom: 0.4em;background-color: white;}#sk-container-id-2 div.sk-label label {font-family: monospace;font-weight: bold;display: inline-block;line-height: 1.2em;}#sk-container-id-2 div.sk-label-container {text-align: center;}#sk-container-id-2 div.sk-container {/* jupyter's `normalize.less` sets `[hidden] { display: none; }` but bootstrap.min.css set `[hidden] { display: none !important; }` so we also need the `!important` here to be able to override the default hidden behavior on the sphinx rendered scikit-learn.org. See: https://github.com/scikit-learn/scikit-learn/issues/21755 */display: inline-block !important;position: relative;}#sk-container-id-2 div.sk-text-repr-fallback {display: none;}</style><div id=\"sk-container-id-2\" class=\"sk-top-container\"><div class=\"sk-text-repr-fallback\"><pre>LinearRegression()</pre><b>In a Jupyter environment, please rerun this cell to show the HTML representation or trust the notebook. <br />On GitHub, the HTML representation is unable to render, please try loading this page with nbviewer.org.</b></div><div class=\"sk-container\" hidden><div class=\"sk-item\"><div class=\"sk-estimator sk-toggleable\"><input class=\"sk-toggleable__control sk-hidden--visually\" id=\"sk-estimator-id-2\" type=\"checkbox\" checked><label for=\"sk-estimator-id-2\" class=\"sk-toggleable__label sk-toggleable__label-arrow\">LinearRegression</label><div class=\"sk-toggleable__content\"><pre>LinearRegression()</pre></div></div></div></div></div>"
      ],
      "text/plain": [
       "LinearRegression()"
      ]
     },
     "execution_count": 22,
     "metadata": {},
     "output_type": "execute_result"
    }
   ],
   "source": [
    "from sklearn.linear_model import LinearRegression\n",
    "regressor = LinearRegression()\n",
    "regressor.fit(X_train,y_train)"
   ]
  },
  {
   "cell_type": "markdown",
   "metadata": {},
   "source": [
    "## Predecting the Results for Linear Regression"
   ]
  },
  {
   "cell_type": "code",
   "execution_count": 24,
   "metadata": {},
   "outputs": [
    {
     "name": "stdout",
     "output_type": "stream",
     "text": [
      "[[2456.99327121]\n",
      " [2393.05088841]\n",
      " [2112.95502543]\n",
      " [1115.77576684]\n",
      " [1961.03329417]\n",
      " [2502.83771015]\n",
      " [2640.14240307]\n",
      " [2424.88938677]\n",
      " [2392.2219862 ]\n",
      " [2294.75934216]\n",
      " [2196.86921982]\n",
      " [1883.9234494 ]\n",
      " [2327.74975858]\n",
      " [2051.07684698]\n",
      " [2581.67828284]\n",
      " [2479.2252054 ]\n",
      " [1242.86699149]\n",
      " [1267.77895227]\n",
      " [2650.41384868]\n",
      " [1883.30426835]\n",
      " [1469.36432385]\n",
      " [2599.49038197]\n",
      " [1159.77955766]\n",
      " [2451.32481611]\n",
      " [2601.85835851]\n",
      " [2071.40504601]\n",
      " [1272.5863932 ]\n",
      " [2439.1932382 ]\n",
      " [2477.0120112 ]\n",
      " [1477.60595035]\n",
      " [1501.9732944 ]\n",
      " [1083.6188745 ]\n",
      " [2343.46745862]\n",
      " [1997.45666802]\n",
      " [2475.29076025]\n",
      " [2331.56072574]\n",
      " [2419.4387287 ]\n",
      " [1211.84062306]\n",
      " [1000.85491281]\n",
      " [2042.85952153]\n",
      " [1916.91898989]\n",
      " [1097.84385848]\n",
      " [1338.20216309]\n",
      " [2588.42040425]\n",
      " [2036.62396827]\n",
      " [1088.08135716]\n",
      " [2010.53986093]\n",
      " [2339.93356195]\n",
      " [1562.79902176]\n",
      " [1927.46291098]\n",
      " [2375.26172941]\n",
      " [1757.60095115]\n",
      " [2646.027871  ]]\n"
     ]
    }
   ],
   "source": [
    "y_pred = regressor.predict(X_test)\n",
    "print(y_pred.reshape(len(y_pred),1))"
   ]
  },
  {
   "cell_type": "markdown",
   "metadata": {},
   "source": [
    "Comparing the y_test and y_pred"
   ]
  },
  {
   "cell_type": "code",
   "execution_count": 26,
   "metadata": {},
   "outputs": [
    {
     "name": "stdout",
     "output_type": "stream",
     "text": [
      "[[2456.99 2408.7 ]\n",
      " [2393.05 2390.55]\n",
      " [2112.96 2105.7 ]\n",
      " [1115.78 1123.15]\n",
      " [1961.03 1929.8 ]\n",
      " [2502.84 2467.6 ]\n",
      " [2640.14 2613.85]\n",
      " [2424.89 2426.6 ]\n",
      " [2392.22 2368.15]\n",
      " [2294.76 2283.95]\n",
      " [2196.87 2213.15]\n",
      " [1883.92 2029.15]\n",
      " [2327.75 2345.05]\n",
      " [2051.08 2041.6 ]\n",
      " [2581.68 2595.85]\n",
      " [2479.23 2482.7 ]\n",
      " [1242.87 1263.87]\n",
      " [1267.78 1259.07]\n",
      " [2650.41 2655.85]\n",
      " [1883.3  1911.7 ]\n",
      " [1469.36 1443.22]\n",
      " [2599.49 2631.8 ]\n",
      " [1159.78 1156.59]\n",
      " [2451.32 2457.85]\n",
      " [2601.86 2565.6 ]\n",
      " [2071.41 2085.8 ]\n",
      " [1272.59 1241.33]\n",
      " [2439.19 2441.95]\n",
      " [2477.01 2506.5 ]\n",
      " [1477.61 1459.4 ]\n",
      " [1501.97 1522.72]\n",
      " [1083.62 1055.59]\n",
      " [2343.47 2329.  ]\n",
      " [1997.46 2002.55]\n",
      " [2475.29 2439.5 ]\n",
      " [2331.56 2385.4 ]\n",
      " [2419.44 2401.8 ]\n",
      " [1211.84 1214.54]\n",
      " [1000.85 1094.92]\n",
      " [2042.86 2035.3 ]\n",
      " [1916.92 1937.3 ]\n",
      " [1097.84 1116.81]\n",
      " [1338.2  1309.24]\n",
      " [2588.42 2615.65]\n",
      " [2036.62 2021.85]\n",
      " [1088.08 1088.33]\n",
      " [2010.54 2054.5 ]\n",
      " [2339.93 2336.65]\n",
      " [1562.8  1536.58]\n",
      " [1927.46 1931.75]\n",
      " [2375.26 2331.3 ]\n",
      " [1757.6  1787.9 ]\n",
      " [2646.03 2671.25]]\n"
     ]
    }
   ],
   "source": [
    "np.set_printoptions(precision=2)\n",
    "result = np.concatenate((y_pred.reshape(len(y_pred),1),y_test.reshape(len(y_test),1)),1)\n",
    "print(result)"
   ]
  },
  {
   "cell_type": "code",
   "execution_count": 27,
   "metadata": {},
   "outputs": [
    {
     "data": {
      "text/plain": [
       "[<matplotlib.lines.Line2D at 0x2b6dbbf5910>]"
      ]
     },
     "execution_count": 27,
     "metadata": {},
     "output_type": "execute_result"
    },
    {
     "data": {
      "image/png": "[encoded data removed]",
      "text/plain": [
       "<Figure size 640x480 with 1 Axes>"
      ]
     },
     "metadata": {},
     "output_type": "display_data"
    }
   ],
   "source": [
    "plt.plot(y_pred,y_test)"
   ]
  },
  {
   "cell_type": "markdown",
   "metadata": {},
   "source": [
    "## Evaluating the performance of the Model"
   ]
  },
  {
   "cell_type": "code",
   "execution_count": 29,
   "metadata": {},
   "outputs": [],
   "source": [
    "from sklearn.metrics import r2_score\n",
    "score = r2_score(y_test,y_pred)"
   ]
  },
  {
   "cell_type": "code",
   "execution_count": 30,
   "metadata": {},
   "outputs": [
    {
     "name": "stdout",
     "output_type": "stream",
     "text": [
      "99.58978046085123\n"
     ]
    }
   ],
   "source": [
    "print(score*100)"
   ]
  },
  {
   "cell_type": "markdown",
   "metadata": {},
   "source": [
    "## Training Random Forest Regression Model on the Dataset"
   ]
  },
  {
   "cell_type": "code",
   "execution_count": 31,
   "metadata": {},
   "outputs": [
    {
     "data": {
      "text/html": [
       "<style>#sk-container-id-3 {color: black;}#sk-container-id-3 pre{padding: 0;}#sk-container-id-3 div.sk-toggleable {background-color: white;}#sk-container-id-3 label.sk-toggleable__label {cursor: pointer;display: block;width: 100%;margin-bottom: 0;padding: 0.3em;box-sizing: border-box;text-align: center;}#sk-container-id-3 label.sk-toggleable__label-arrow:before {content: \"▸\";float: left;margin-right: 0.25em;color: #696969;}#sk-container-id-3 label.sk-toggleable__label-arrow:hover:before {color: black;}#sk-container-id-3 div.sk-estimator:hover label.sk-toggleable__label-arrow:before {color: black;}#sk-container-id-3 div.sk-toggleable__content {max-height: 0;max-width: 0;overflow: hidden;text-align: left;background-color: #f0f8ff;}#sk-container-id-3 div.sk-toggleable__content pre {margin: 0.2em;color: black;border-radius: 0.25em;background-color: #f0f8ff;}#sk-container-id-3 input.sk-toggleable__control:checked~div.sk-toggleable__content {max-height: 200px;max-width: 100%;overflow: auto;}#sk-container-id-3 input.sk-toggleable__control:checked~label.sk-toggleable__label-arrow:before {content: \"▾\";}#sk-container-id-3 div.sk-estimator input.sk-toggleable__control:checked~label.sk-toggleable__label {background-color: #d4ebff;}#sk-container-id-3 div.sk-label input.sk-toggleable__control:checked~label.sk-toggleable__label {background-color: #d4ebff;}#sk-container-id-3 input.sk-hidden--visually {border: 0;clip: rect(1px 1px 1px 1px);clip: rect(1px, 1px, 1px, 1px);height: 1px;margin: -1px;overflow: hidden;padding: 0;position: absolute;width: 1px;}#sk-container-id-3 div.sk-estimator {font-family: monospace;background-color: #f0f8ff;border: 1px dotted black;border-radius: 0.25em;box-sizing: border-box;margin-bottom: 0.5em;}#sk-container-id-3 div.sk-estimator:hover {background-color: #d4ebff;}#sk-container-id-3 div.sk-parallel-item::after {content: \"\";width: 100%;border-bottom: 1px solid gray;flex-grow: 1;}#sk-container-id-3 div.sk-label:hover label.sk-toggleable__label {background-color: #d4ebff;}#sk-container-id-3 div.sk-serial::before {content: \"\";position: absolute;border-left: 1px solid gray;box-sizing: border-box;top: 0;bottom: 0;left: 50%;z-index: 0;}#sk-container-id-3 div.sk-serial {display: flex;flex-direction: column;align-items: center;background-color: white;padding-right: 0.2em;padding-left: 0.2em;position: relative;}#sk-container-id-3 div.sk-item {position: relative;z-index: 1;}#sk-container-id-3 div.sk-parallel {display: flex;align-items: stretch;justify-content: center;background-color: white;position: relative;}#sk-container-id-3 div.sk-item::before, #sk-container-id-3 div.sk-parallel-item::before {content: \"\";position: absolute;border-left: 1px solid gray;box-sizing: border-box;top: 0;bottom: 0;left: 50%;z-index: -1;}#sk-container-id-3 div.sk-parallel-item {display: flex;flex-direction: column;z-index: 1;position: relative;background-color: white;}#sk-container-id-3 div.sk-parallel-item:first-child::after {align-self: flex-end;width: 50%;}#sk-container-id-3 div.sk-parallel-item:last-child::after {align-self: flex-start;width: 50%;}#sk-container-id-3 div.sk-parallel-item:only-child::after {width: 0;}#sk-container-id-3 div.sk-dashed-wrapped {border: 1px dashed gray;margin: 0 0.4em 0.5em 0.4em;box-sizing: border-box;padding-bottom: 0.4em;background-color: white;}#sk-container-id-3 div.sk-label label {font-family: monospace;font-weight: bold;display: inline-block;line-height: 1.2em;}#sk-container-id-3 div.sk-label-container {text-align: center;}#sk-container-id-3 div.sk-container {/* jupyter's `normalize.less` sets `[hidden] { display: none; }` but bootstrap.min.css set `[hidden] { display: none !important; }` so we also need the `!important` here to be able to override the default hidden behavior on the sphinx rendered scikit-learn.org. See: https://github.com/scikit-learn/scikit-learn/issues/21755 */display: inline-block !important;position: relative;}#sk-container-id-3 div.sk-text-repr-fallback {display: none;}</style><div id=\"sk-container-id-3\" class=\"sk-top-container\"><div class=\"sk-text-repr-fallback\"><pre>RandomForestRegressor(n_estimators=10, random_state=0)</pre><b>In a Jupyter environment, please rerun this cell to show the HTML representation or trust the notebook. <br />On GitHub, the HTML representation is unable to render, please try loading this page with nbviewer.org.</b></div><div class=\"sk-container\" hidden><div class=\"sk-item\"><div class=\"sk-estimator sk-toggleable\"><input class=\"sk-toggleable__control sk-hidden--visually\" id=\"sk-estimator-id-3\" type=\"checkbox\" checked><label for=\"sk-estimator-id-3\" class=\"sk-toggleable__label sk-toggleable__label-arrow\">RandomForestRegressor</label><div class=\"sk-toggleable__content\"><pre>RandomForestRegressor(n_estimators=10, random_state=0)</pre></div></div></div></div></div>"
      ],
      "text/plain": [
       "RandomForestRegressor(n_estimators=10, random_state=0)"
      ]
     },
     "execution_count": 31,
     "metadata": {},
     "output_type": "execute_result"
    }
   ],
   "source": [
    "from sklearn.ensemble import RandomForestRegressor\n",
    "regressor = RandomForestRegressor(n_estimators=10,random_state=0)\n",
    "regressor.fit(X_train,y_train)"
   ]
  },
  {
   "cell_type": "markdown",
   "metadata": {},
   "source": [
    "## Predicting the Results for Random Forest Regression"
   ]
  },
  {
   "cell_type": "code",
   "execution_count": 32,
   "metadata": {},
   "outputs": [
    {
     "name": "stdout",
     "output_type": "stream",
     "text": [
      "[[2521.59]\n",
      " [2407.16]\n",
      " [2126.09]\n",
      " [1132.26]\n",
      " [1963.34]\n",
      " [2525.91]\n",
      " [2604.52]\n",
      " [2518.2 ]\n",
      " [2399.22]\n",
      " [2368.32]\n",
      " [2206.79]\n",
      " [1878.14]\n",
      " [2319.64]\n",
      " [1988.34]\n",
      " [2533.35]\n",
      " [2439.44]\n",
      " [1242.08]\n",
      " [1260.94]\n",
      " [2611.2 ]\n",
      " [1883.67]\n",
      " [1458.27]\n",
      " [2608.8 ]\n",
      " [1162.95]\n",
      " [2408.12]\n",
      " [2610.36]\n",
      " [2092.36]\n",
      " [1262.79]\n",
      " [2408.55]\n",
      " [2483.83]\n",
      " [1551.63]\n",
      " [1524.38]\n",
      " [1050.68]\n",
      " [2351.77]\n",
      " [1990.31]\n",
      " [2516.23]\n",
      " [2357.96]\n",
      " [2404.23]\n",
      " [1212.67]\n",
      " [1204.7 ]\n",
      " [2074.73]\n",
      " [1942.52]\n",
      " [1109.37]\n",
      " [1280.61]\n",
      " [2594.54]\n",
      " [2000.56]\n",
      " [1094.81]\n",
      " [2058.02]\n",
      " [2329.69]\n",
      " [1584.71]\n",
      " [1943.35]\n",
      " [2365.67]\n",
      " [1757.07]\n",
      " [2624.58]]\n"
     ]
    }
   ],
   "source": [
    "y_pred = regressor.predict(X_test)\n",
    "print(y_pred.reshape(len(y_pred),1))"
   ]
  },
  {
   "cell_type": "code",
   "execution_count": 34,
   "metadata": {},
   "outputs": [
    {
     "name": "stdout",
     "output_type": "stream",
     "text": [
      "[[2521.59 2408.7 ]\n",
      " [2407.16 2390.55]\n",
      " [2126.09 2105.7 ]\n",
      " [1132.26 1123.15]\n",
      " [1963.34 1929.8 ]\n",
      " [2525.91 2467.6 ]\n",
      " [2604.52 2613.85]\n",
      " [2518.2  2426.6 ]\n",
      " [2399.22 2368.15]\n",
      " [2368.32 2283.95]\n",
      " [2206.79 2213.15]\n",
      " [1878.14 2029.15]\n",
      " [2319.64 2345.05]\n",
      " [1988.34 2041.6 ]\n",
      " [2533.35 2595.85]\n",
      " [2439.44 2482.7 ]\n",
      " [1242.08 1263.87]\n",
      " [1260.94 1259.07]\n",
      " [2611.2  2655.85]\n",
      " [1883.67 1911.7 ]\n",
      " [1458.27 1443.22]\n",
      " [2608.8  2631.8 ]\n",
      " [1162.95 1156.59]\n",
      " [2408.12 2457.85]\n",
      " [2610.36 2565.6 ]\n",
      " [2092.36 2085.8 ]\n",
      " [1262.79 1241.33]\n",
      " [2408.55 2441.95]\n",
      " [2483.83 2506.5 ]\n",
      " [1551.63 1459.4 ]\n",
      " [1524.38 1522.72]\n",
      " [1050.68 1055.59]\n",
      " [2351.77 2329.  ]\n",
      " [1990.31 2002.55]\n",
      " [2516.23 2439.5 ]\n",
      " [2357.96 2385.4 ]\n",
      " [2404.23 2401.8 ]\n",
      " [1212.67 1214.54]\n",
      " [1204.7  1094.92]\n",
      " [2074.73 2035.3 ]\n",
      " [1942.52 1937.3 ]\n",
      " [1109.37 1116.81]\n",
      " [1280.61 1309.24]\n",
      " [2594.54 2615.65]\n",
      " [2000.56 2021.85]\n",
      " [1094.81 1088.33]\n",
      " [2058.02 2054.5 ]\n",
      " [2329.69 2336.65]\n",
      " [1584.71 1536.58]\n",
      " [1943.35 1931.75]\n",
      " [2365.67 2331.3 ]\n",
      " [1757.07 1787.9 ]\n",
      " [2624.58 2671.25]]\n"
     ]
    }
   ],
   "source": [
    "np.set_printoptions(precision=2)\n",
    "print(np.concatenate((y_pred.reshape(len(y_pred),1),y_test.reshape(len(y_test),1)),1))"
   ]
  },
  {
   "cell_type": "markdown",
   "metadata": {},
   "source": [
    "## Evaluating the performance of the Random Forest Regression Model"
   ]
  },
  {
   "cell_type": "code",
   "execution_count": 35,
   "metadata": {},
   "outputs": [],
   "source": [
    "from sklearn.metrics import r2_score\n",
    "score = r2_score(y_test,y_pred) "
   ]
  },
  {
   "cell_type": "code",
   "execution_count": 36,
   "metadata": {},
   "outputs": [
    {
     "name": "stdout",
     "output_type": "stream",
     "text": [
      "99.18896787534159\n"
     ]
    }
   ],
   "source": [
    "print(score*100)"
   ]
  },
  {
   "cell_type": "markdown",
   "metadata": {},
   "source": [
    "## Training Decision Tree Regression Model on the Dataset"
   ]
  },
  {
   "cell_type": "code",
   "execution_count": 37,
   "metadata": {},
   "outputs": [
    {
     "data": {
      "text/html": [
       "<style>#sk-container-id-4 {color: black;}#sk-container-id-4 pre{padding: 0;}#sk-container-id-4 div.sk-toggleable {background-color: white;}#sk-container-id-4 label.sk-toggleable__label {cursor: pointer;display: block;width: 100%;margin-bottom: 0;padding: 0.3em;box-sizing: border-box;text-align: center;}#sk-container-id-4 label.sk-toggleable__label-arrow:before {content: \"▸\";float: left;margin-right: 0.25em;color: #696969;}#sk-container-id-4 label.sk-toggleable__label-arrow:hover:before {color: black;}#sk-container-id-4 div.sk-estimator:hover label.sk-toggleable__label-arrow:before {color: black;}#sk-container-id-4 div.sk-toggleable__content {max-height: 0;max-width: 0;overflow: hidden;text-align: left;background-color: #f0f8ff;}#sk-container-id-4 div.sk-toggleable__content pre {margin: 0.2em;color: black;border-radius: 0.25em;background-color: #f0f8ff;}#sk-container-id-4 input.sk-toggleable__control:checked~div.sk-toggleable__content {max-height: 200px;max-width: 100%;overflow: auto;}#sk-container-id-4 input.sk-toggleable__control:checked~label.sk-toggleable__label-arrow:before {content: \"▾\";}#sk-container-id-4 div.sk-estimator input.sk-toggleable__control:checked~label.sk-toggleable__label {background-color: #d4ebff;}#sk-container-id-4 div.sk-label input.sk-toggleable__control:checked~label.sk-toggleable__label {background-color: #d4ebff;}#sk-container-id-4 input.sk-hidden--visually {border: 0;clip: rect(1px 1px 1px 1px);clip: rect(1px, 1px, 1px, 1px);height: 1px;margin: -1px;overflow: hidden;padding: 0;position: absolute;width: 1px;}#sk-container-id-4 div.sk-estimator {font-family: monospace;background-color: #f0f8ff;border: 1px dotted black;border-radius: 0.25em;box-sizing: border-box;margin-bottom: 0.5em;}#sk-container-id-4 div.sk-estimator:hover {background-color: #d4ebff;}#sk-container-id-4 div.sk-parallel-item::after {content: \"\";width: 100%;border-bottom: 1px solid gray;flex-grow: 1;}#sk-container-id-4 div.sk-label:hover label.sk-toggleable__label {background-color: #d4ebff;}#sk-container-id-4 div.sk-serial::before {content: \"\";position: absolute;border-left: 1px solid gray;box-sizing: border-box;top: 0;bottom: 0;left: 50%;z-index: 0;}#sk-container-id-4 div.sk-serial {display: flex;flex-direction: column;align-items: center;background-color: white;padding-right: 0.2em;padding-left: 0.2em;position: relative;}#sk-container-id-4 div.sk-item {position: relative;z-index: 1;}#sk-container-id-4 div.sk-parallel {display: flex;align-items: stretch;justify-content: center;background-color: white;position: relative;}#sk-container-id-4 div.sk-item::before, #sk-container-id-4 div.sk-parallel-item::before {content: \"\";position: absolute;border-left: 1px solid gray;box-sizing: border-box;top: 0;bottom: 0;left: 50%;z-index: -1;}#sk-container-id-4 div.sk-parallel-item {display: flex;flex-direction: column;z-index: 1;position: relative;background-color: white;}#sk-container-id-4 div.sk-parallel-item:first-child::after {align-self: flex-end;width: 50%;}#sk-container-id-4 div.sk-parallel-item:last-child::after {align-self: flex-start;width: 50%;}#sk-container-id-4 div.sk-parallel-item:only-child::after {width: 0;}#sk-container-id-4 div.sk-dashed-wrapped {border: 1px dashed gray;margin: 0 0.4em 0.5em 0.4em;box-sizing: border-box;padding-bottom: 0.4em;background-color: white;}#sk-container-id-4 div.sk-label label {font-family: monospace;font-weight: bold;display: inline-block;line-height: 1.2em;}#sk-container-id-4 div.sk-label-container {text-align: center;}#sk-container-id-4 div.sk-container {/* jupyter's `normalize.less` sets `[hidden] { display: none; }` but bootstrap.min.css set `[hidden] { display: none !important; }` so we also need the `!important` here to be able to override the default hidden behavior on the sphinx rendered scikit-learn.org. See: https://github.com/scikit-learn/scikit-learn/issues/21755 */display: inline-block !important;position: relative;}#sk-container-id-4 div.sk-text-repr-fallback {display: none;}</style><div id=\"sk-container-id-4\" class=\"sk-top-container\"><div class=\"sk-text-repr-fallback\"><pre>DecisionTreeRegressor()</pre><b>In a Jupyter environment, please rerun this cell to show the HTML representation or trust the notebook. <br />On GitHub, the HTML representation is unable to render, please try loading this page with nbviewer.org.</b></div><div class=\"sk-container\" hidden><div class=\"sk-item\"><div class=\"sk-estimator sk-toggleable\"><input class=\"sk-toggleable__control sk-hidden--visually\" id=\"sk-estimator-id-4\" type=\"checkbox\" checked><label for=\"sk-estimator-id-4\" class=\"sk-toggleable__label sk-toggleable__label-arrow\">DecisionTreeRegressor</label><div class=\"sk-toggleable__content\"><pre>DecisionTreeRegressor()</pre></div></div></div></div></div>"
      ],
      "text/plain": [
       "DecisionTreeRegressor()"
      ]
     },
     "execution_count": 37,
     "metadata": {},
     "output_type": "execute_result"
    }
   ],
   "source": [
    "from sklearn.tree import DecisionTreeRegressor\n",
    "regressor = DecisionTreeRegressor()\n",
    "regressor.fit(X_train,y_train)"
   ]
  },
  {
   "cell_type": "markdown",
   "metadata": {},
   "source": [
    "## Predicting using the Decision Tree regression Model"
   ]
  },
  {
   "cell_type": "code",
   "execution_count": 38,
   "metadata": {},
   "outputs": [
    {
     "data": {
      "text/plain": [
       "array([2593.1 , 2391.4 , 2129.05, 1151.19, 1946.75, 2593.1 , 2609.1 ,\n",
       "       2473.3 , 2420.5 , 2337.35, 2225.65, 1841.95, 2318.  , 2005.8 ,\n",
       "       2593.1 , 2391.4 , 1237.27, 1239.4 , 2618.  , 1878.05, 1457.04,\n",
       "       2551.65, 1173.23, 2425.6 , 2551.65, 2116.15, 1296.76, 2442.65,\n",
       "       2484.35, 1540.3 , 1533.12, 1067.33, 2372.8 , 2005.8 , 2526.15,\n",
       "       2372.8 , 2432.35, 1214.09, 1208.49, 2112.4 , 1937.45, 1114.98,\n",
       "       1267.49, 2590.  , 1982.05, 1090.96, 1994.65, 2305.7 , 1568.04,\n",
       "       1932.1 , 2376.4 , 1759.4 , 2618.  ])"
      ]
     },
     "execution_count": 38,
     "metadata": {},
     "output_type": "execute_result"
    }
   ],
   "source": [
    "regressor.predict(X_test)"
   ]
  },
  {
   "cell_type": "code",
   "execution_count": 39,
   "metadata": {},
   "outputs": [],
   "source": [
    "## Evaluating the performance\n",
    "np.set_printoptions(precision=2)\n",
    "result = np.concatenate((y_pred.reshape(len(y_pred),1),y_test.reshape(len(y_test),1)),1)"
   ]
  },
  {
   "cell_type": "code",
   "execution_count": 40,
   "metadata": {},
   "outputs": [
    {
     "name": "stdout",
     "output_type": "stream",
     "text": [
      "[[2521.59 2408.7 ]\n",
      " [2407.16 2390.55]\n",
      " [2126.09 2105.7 ]\n",
      " [1132.26 1123.15]\n",
      " [1963.34 1929.8 ]\n",
      " [2525.91 2467.6 ]\n",
      " [2604.52 2613.85]\n",
      " [2518.2  2426.6 ]\n",
      " [2399.22 2368.15]\n",
      " [2368.32 2283.95]\n",
      " [2206.79 2213.15]\n",
      " [1878.14 2029.15]\n",
      " [2319.64 2345.05]\n",
      " [1988.34 2041.6 ]\n",
      " [2533.35 2595.85]\n",
      " [2439.44 2482.7 ]\n",
      " [1242.08 1263.87]\n",
      " [1260.94 1259.07]\n",
      " [2611.2  2655.85]\n",
      " [1883.67 1911.7 ]\n",
      " [1458.27 1443.22]\n",
      " [2608.8  2631.8 ]\n",
      " [1162.95 1156.59]\n",
      " [2408.12 2457.85]\n",
      " [2610.36 2565.6 ]\n",
      " [2092.36 2085.8 ]\n",
      " [1262.79 1241.33]\n",
      " [2408.55 2441.95]\n",
      " [2483.83 2506.5 ]\n",
      " [1551.63 1459.4 ]\n",
      " [1524.38 1522.72]\n",
      " [1050.68 1055.59]\n",
      " [2351.77 2329.  ]\n",
      " [1990.31 2002.55]\n",
      " [2516.23 2439.5 ]\n",
      " [2357.96 2385.4 ]\n",
      " [2404.23 2401.8 ]\n",
      " [1212.67 1214.54]\n",
      " [1204.7  1094.92]\n",
      " [2074.73 2035.3 ]\n",
      " [1942.52 1937.3 ]\n",
      " [1109.37 1116.81]\n",
      " [1280.61 1309.24]\n",
      " [2594.54 2615.65]\n",
      " [2000.56 2021.85]\n",
      " [1094.81 1088.33]\n",
      " [2058.02 2054.5 ]\n",
      " [2329.69 2336.65]\n",
      " [1584.71 1536.58]\n",
      " [1943.35 1931.75]\n",
      " [2365.67 2331.3 ]\n",
      " [1757.07 1787.9 ]\n",
      " [2624.58 2671.25]]\n"
     ]
    }
   ],
   "source": [
    "print(result)"
   ]
  },
  {
   "cell_type": "markdown",
   "metadata": {},
   "source": [
    "## Evaluating the performance of the Decision Tree Regression Model"
   ]
  },
  {
   "cell_type": "code",
   "execution_count": 41,
   "metadata": {},
   "outputs": [],
   "source": [
    "from sklearn.metrics import r2_score\n",
    "score = r2_score(y_test,y_pred)"
   ]
  },
  {
   "cell_type": "code",
   "execution_count": 42,
   "metadata": {},
   "outputs": [
    {
     "name": "stdout",
     "output_type": "stream",
     "text": [
      "99.18896787534159\n"
     ]
    }
   ],
   "source": [
    "print(score*100)"
   ]
  },
  {
   "cell_type": "markdown",
   "metadata": {},
   "source": [
    "## Training the Dataset using Polynomial Regression Model"
   ]
  },
  {
   "cell_type": "code",
   "execution_count": 43,
   "metadata": {},
   "outputs": [
    {
     "data": {
      "text/html": [
       "<style>#sk-container-id-5 {color: black;}#sk-container-id-5 pre{padding: 0;}#sk-container-id-5 div.sk-toggleable {background-color: white;}#sk-container-id-5 label.sk-toggleable__label {cursor: pointer;display: block;width: 100%;margin-bottom: 0;padding: 0.3em;box-sizing: border-box;text-align: center;}#sk-container-id-5 label.sk-toggleable__label-arrow:before {content: \"▸\";float: left;margin-right: 0.25em;color: #696969;}#sk-container-id-5 label.sk-toggleable__label-arrow:hover:before {color: black;}#sk-container-id-5 div.sk-estimator:hover label.sk-toggleable__label-arrow:before {color: black;}#sk-container-id-5 div.sk-toggleable__content {max-height: 0;max-width: 0;overflow: hidden;text-align: left;background-color: #f0f8ff;}#sk-container-id-5 div.sk-toggleable__content pre {margin: 0.2em;color: black;border-radius: 0.25em;background-color: #f0f8ff;}#sk-container-id-5 input.sk-toggleable__control:checked~div.sk-toggleable__content {max-height: 200px;max-width: 100%;overflow: auto;}#sk-container-id-5 input.sk-toggleable__control:checked~label.sk-toggleable__label-arrow:before {content: \"▾\";}#sk-container-id-5 div.sk-estimator input.sk-toggleable__control:checked~label.sk-toggleable__label {background-color: #d4ebff;}#sk-container-id-5 div.sk-label input.sk-toggleable__control:checked~label.sk-toggleable__label {background-color: #d4ebff;}#sk-container-id-5 input.sk-hidden--visually {border: 0;clip: rect(1px 1px 1px 1px);clip: rect(1px, 1px, 1px, 1px);height: 1px;margin: -1px;overflow: hidden;padding: 0;position: absolute;width: 1px;}#sk-container-id-5 div.sk-estimator {font-family: monospace;background-color: #f0f8ff;border: 1px dotted black;border-radius: 0.25em;box-sizing: border-box;margin-bottom: 0.5em;}#sk-container-id-5 div.sk-estimator:hover {background-color: #d4ebff;}#sk-container-id-5 div.sk-parallel-item::after {content: \"\";width: 100%;border-bottom: 1px solid gray;flex-grow: 1;}#sk-container-id-5 div.sk-label:hover label.sk-toggleable__label {background-color: #d4ebff;}#sk-container-id-5 div.sk-serial::before {content: \"\";position: absolute;border-left: 1px solid gray;box-sizing: border-box;top: 0;bottom: 0;left: 50%;z-index: 0;}#sk-container-id-5 div.sk-serial {display: flex;flex-direction: column;align-items: center;background-color: white;padding-right: 0.2em;padding-left: 0.2em;position: relative;}#sk-container-id-5 div.sk-item {position: relative;z-index: 1;}#sk-container-id-5 div.sk-parallel {display: flex;align-items: stretch;justify-content: center;background-color: white;position: relative;}#sk-container-id-5 div.sk-item::before, #sk-container-id-5 div.sk-parallel-item::before {content: \"\";position: absolute;border-left: 1px solid gray;box-sizing: border-box;top: 0;bottom: 0;left: 50%;z-index: -1;}#sk-container-id-5 div.sk-parallel-item {display: flex;flex-direction: column;z-index: 1;position: relative;background-color: white;}#sk-container-id-5 div.sk-parallel-item:first-child::after {align-self: flex-end;width: 50%;}#sk-container-id-5 div.sk-parallel-item:last-child::after {align-self: flex-start;width: 50%;}#sk-container-id-5 div.sk-parallel-item:only-child::after {width: 0;}#sk-container-id-5 div.sk-dashed-wrapped {border: 1px dashed gray;margin: 0 0.4em 0.5em 0.4em;box-sizing: border-box;padding-bottom: 0.4em;background-color: white;}#sk-container-id-5 div.sk-label label {font-family: monospace;font-weight: bold;display: inline-block;line-height: 1.2em;}#sk-container-id-5 div.sk-label-container {text-align: center;}#sk-container-id-5 div.sk-container {/* jupyter's `normalize.less` sets `[hidden] { display: none; }` but bootstrap.min.css set `[hidden] { display: none !important; }` so we also need the `!important` here to be able to override the default hidden behavior on the sphinx rendered scikit-learn.org. See: https://github.com/scikit-learn/scikit-learn/issues/21755 */display: inline-block !important;position: relative;}#sk-container-id-5 div.sk-text-repr-fallback {display: none;}</style><div id=\"sk-container-id-5\" class=\"sk-top-container\"><div class=\"sk-text-repr-fallback\"><pre>LinearRegression()</pre><b>In a Jupyter environment, please rerun this cell to show the HTML representation or trust the notebook. <br />On GitHub, the HTML representation is unable to render, please try loading this page with nbviewer.org.</b></div><div class=\"sk-container\" hidden><div class=\"sk-item\"><div class=\"sk-estimator sk-toggleable\"><input class=\"sk-toggleable__control sk-hidden--visually\" id=\"sk-estimator-id-5\" type=\"checkbox\" checked><label for=\"sk-estimator-id-5\" class=\"sk-toggleable__label sk-toggleable__label-arrow\">LinearRegression</label><div class=\"sk-toggleable__content\"><pre>LinearRegression()</pre></div></div></div></div></div>"
      ],
      "text/plain": [
       "LinearRegression()"
      ]
     },
     "execution_count": 43,
     "metadata": {},
     "output_type": "execute_result"
    }
   ],
   "source": [
    "from sklearn.preprocessing import PolynomialFeatures\n",
    "from sklearn.linear_model import LinearRegression\n",
    "poly_reg = PolynomialFeatures(degree=4)\n",
    "X_poly = poly_reg.fit_transform(X_train) # defining a polynomial regression instance\n",
    "regressor = LinearRegression()\n",
    "regressor.fit(X_poly,y_train)"
   ]
  },
  {
   "cell_type": "markdown",
   "metadata": {},
   "source": [
    "## Predicting the Test set results"
   ]
  },
  {
   "cell_type": "code",
   "execution_count": 44,
   "metadata": {},
   "outputs": [],
   "source": [
    "y_pred = regressor.predict(poly_reg.transform(X_test))"
   ]
  },
  {
   "cell_type": "code",
   "execution_count": 45,
   "metadata": {},
   "outputs": [],
   "source": [
    "np.set_printoptions(precision=2)\n",
    "result = np.concatenate((y_pred.reshape(len(y_pred),1),y_test.reshape(len(y_test),1)),1)"
   ]
  },
  {
   "cell_type": "code",
   "execution_count": 46,
   "metadata": {},
   "outputs": [
    {
     "name": "stdout",
     "output_type": "stream",
     "text": [
      "[[2458.76 2408.7 ]\n",
      " [2391.83 2390.55]\n",
      " [2109.37 2105.7 ]\n",
      " [1133.26 1123.15]\n",
      " [1963.68 1929.8 ]\n",
      " [2490.71 2467.6 ]\n",
      " [2667.27 2613.85]\n",
      " [2387.45 2426.6 ]\n",
      " [2390.71 2368.15]\n",
      " [2303.37 2283.95]\n",
      " [2197.69 2213.15]\n",
      " [1857.15 2029.15]\n",
      " [2324.7  2345.05]\n",
      " [2035.25 2041.6 ]\n",
      " [2556.6  2595.85]\n",
      " [2449.68 2482.7 ]\n",
      " [1245.86 1263.87]\n",
      " [1253.65 1259.07]\n",
      " [2658.01 2655.85]\n",
      " [1832.26 1911.7 ]\n",
      " [1456.89 1443.22]\n",
      " [2620.47 2631.8 ]\n",
      " [1150.05 1156.59]\n",
      " [2465.83 2457.85]\n",
      " [2617.65 2565.6 ]\n",
      " [2053.59 2085.8 ]\n",
      " [1274.08 1241.33]\n",
      " [2441.6  2441.95]\n",
      " [2476.81 2506.5 ]\n",
      " [1387.81 1459.4 ]\n",
      " [1518.15 1522.72]\n",
      " [1360.92 1055.59]\n",
      " [2345.18 2329.  ]\n",
      " [1986.82 2002.55]\n",
      " [2470.7  2439.5 ]\n",
      " [2336.11 2385.4 ]\n",
      " [2408.98 2401.8 ]\n",
      " [1218.89 1214.54]\n",
      " [-290.99 1094.92]\n",
      " [2041.79 2035.3 ]\n",
      " [1925.63 1937.3 ]\n",
      " [1095.5  1116.81]\n",
      " [1320.62 1309.24]\n",
      " [2568.73 2615.65]\n",
      " [2020.39 2021.85]\n",
      " [1100.46 1088.33]\n",
      " [2027.69 2054.5 ]\n",
      " [2340.28 2336.65]\n",
      " [1556.29 1536.58]\n",
      " [1932.08 1931.75]\n",
      " [2377.11 2331.3 ]\n",
      " [1755.57 1787.9 ]\n",
      " [2639.52 2671.25]]\n"
     ]
    }
   ],
   "source": [
    "print(result)"
   ]
  },
  {
   "cell_type": "markdown",
   "metadata": {},
   "source": [
    "## Evaluating the performance of the Polynomial Regression Model"
   ]
  },
  {
   "cell_type": "code",
   "execution_count": 47,
   "metadata": {},
   "outputs": [],
   "source": [
    "from sklearn.metrics import r2_score\n",
    "score = r2_score(y_test,y_pred)"
   ]
  },
  {
   "cell_type": "code",
   "execution_count": 48,
   "metadata": {},
   "outputs": [
    {
     "name": "stdout",
     "output_type": "stream",
     "text": [
      "85.34586097135997\n"
     ]
    }
   ],
   "source": [
    "print(score*100)"
   ]
  },
  {
   "cell_type": "markdown",
   "metadata": {},
   "source": [
    "Analysing the accuracies of the Model"
   ]
  },
  {
   "cell_type": "markdown",
   "metadata": {},
   "source": [
    "#### Analysing the accuracies of various Models:"
   ]
  },
  {
   "cell_type": "code",
   "execution_count": 49,
   "metadata": {},
   "outputs": [],
   "source": [
    "acc_df = pd.read_csv('accuracies.csv')"
   ]
  },
  {
   "cell_type": "code",
   "execution_count": 54,
   "metadata": {},
   "outputs": [],
   "source": [
    "acc_df\n",
    "X = acc_df.iloc[:,0].values"
   ]
  },
  {
   "cell_type": "code",
   "execution_count": 55,
   "metadata": {},
   "outputs": [
    {
     "data": {
      "text/plain": [
       "array(['Multiple Linear Regression', 'Decision Tree Regression',\n",
       "       'Random Forest Regression', 'Polynomial Regression'], dtype=object)"
      ]
     },
     "execution_count": 55,
     "metadata": {},
     "output_type": "execute_result"
    }
   ],
   "source": [
    "X"
   ]
  },
  {
   "cell_type": "code",
   "execution_count": 56,
   "metadata": {},
   "outputs": [],
   "source": [
    "y = acc_df.iloc[:,1].values"
   ]
  },
  {
   "cell_type": "code",
   "execution_count": 57,
   "metadata": {},
   "outputs": [
    {
     "data": {
      "text/plain": [
       "array([99.58, 99.18, 99.18, 85.34])"
      ]
     },
     "execution_count": 57,
     "metadata": {},
     "output_type": "execute_result"
    }
   ],
   "source": [
    "y"
   ]
  },
  {
   "cell_type": "code",
   "execution_count": 63,
   "metadata": {},
   "outputs": [
    {
     "data": {
      "text/plain": [
       "Text(0, 0.5, 'Percentage Accuracy')"
      ]
     },
     "execution_count": 63,
     "metadata": {},
     "output_type": "execute_result"
    },
    {
     "data": {
      "image/png": "[encoded data removed]",
      "text/plain": [
       "<Figure size 640x480 with 1 Axes>"
      ]
     },
     "metadata": {},
     "output_type": "display_data"
    }
   ],
   "source": [
    "plt.scatter(X,y)\n",
    "plt.plot(X,y,color='red')\n",
    "plt.title('Accuracies of different Model')\n",
    "plt.xlabel('Model Name')\n",
    "plt.xticks(rotation=45)\n",
    "plt.ylabel('Percentage Accuracy')"
   ]
  },
  {
   "cell_type": "markdown",
   "metadata": {},
   "source": [
    "In conclusion, Multiple Linear Regression Model gives the best prediction accuracy for the given dataset. It takes into account the 3 columns provided and then predicts the closing price for the stock. "
   ]
  }
 ],
 "metadata": {
  "kernelspec": {
   "display_name": "Python 3",
   "language": "python",
   "name": "python3"
  },
  "language_info": {
   "codemirror_mode": {
    "name": "ipython",
    "version": 3
   },
   "file_extension": ".py",
   "mimetype": "text/x-python",
   "name": "python",
   "nbconvert_exporter": "python",
   "pygments_lexer": "ipython3",
   "version": "3.11.5"
  }
 },
 "nbformat": 4,
 "nbformat_minor": 2
}
